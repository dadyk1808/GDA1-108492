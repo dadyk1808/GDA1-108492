{
 "cells": [
  {
   "cell_type": "code",
   "execution_count": null,
   "id": "8f3b9795-d97f-4c72-81cf-acf25ae027c4",
   "metadata": {},
   "outputs": [],
   "source": []
  }
 ],
 "metadata": {
  "kernelspec": {
   "display_name": "",
   "name": ""
  },
  "language_info": {
   "name": ""
  }
 },
 "nbformat": 4,
 "nbformat_minor": 5
}
